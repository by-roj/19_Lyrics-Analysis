{
 "cells": [
  {
   "cell_type": "code",
   "execution_count": 1,
   "metadata": {},
   "outputs": [],
   "source": [
    "import pandas as pd"
   ]
  },
  {
   "cell_type": "code",
   "execution_count": null,
   "metadata": {},
   "outputs": [],
   "source": [
    "for i in range(0, 54):\n",
    "    f = open(\"C:/Users/YONGHA.LEE/YBIGTA/19-1 conference/lyrics/\" + str(i+1964)  + \".txt\", 'r', encoding='UTF8')\n",
    "    lyrics = f.read()\n",
    "    lyrics = lyrics.lower()\n",
    "    f.close()\n",
    "    \n",
    "    f = open(\"C:/Users/YONGHA.LEE/YBIGTA/19-1 conference/lyrics2/\" + str(i+1964) + \".txt\", 'w', encoding='UTF8')\n",
    "    f.write(lyrics)\n",
    "    f.close()"
   ]
  },
  {
   "cell_type": "code",
   "execution_count": null,
   "metadata": {},
   "outputs": [],
   "source": [
    "df = pd.read_csv(\"year_all_lyrics.csv\")"
   ]
  },
  {
   "cell_type": "code",
   "execution_count": null,
   "metadata": {},
   "outputs": [],
   "source": [
    "for i in range(len(df)):\n",
    "    df.loc[i, 'lyrics'] = df.loc[i, 'lyrics'].lower()"
   ]
  },
  {
   "cell_type": "code",
   "execution_count": 9,
   "metadata": {},
   "outputs": [],
   "source": [
    "df.to_csv(\"year_all_lyrics2.csv\")"
   ]
  },
  {
   "cell_type": "code",
   "execution_count": 2,
   "metadata": {},
   "outputs": [],
   "source": [
    "for i in range(0, 54):\n",
    "    f = open(\"C:/Users/YONGHA.LEE/YBIGTA/19-1 conference/lyrics_male/\" + str(i+1964)  + \"male.txt\", 'r', encoding='UTF8')\n",
    "    lyrics = f.read()\n",
    "    lyrics = lyrics.lower()\n",
    "    f.close()\n",
    "    \n",
    "    f = open(\"C:/Users/YONGHA.LEE/YBIGTA/19-1 conference/lyrics2_male/\" + str(i+1964) + \"male.txt\", 'w', encoding='UTF8')\n",
    "    f.write(lyrics)\n",
    "    f.close()"
   ]
  },
  {
   "cell_type": "code",
   "execution_count": 3,
   "metadata": {},
   "outputs": [],
   "source": [
    "df2 = pd.read_csv(\"year_male_lyric.csv\")"
   ]
  },
  {
   "cell_type": "code",
   "execution_count": 10,
   "metadata": {},
   "outputs": [],
   "source": [
    "df2.rename(columns = {'Unnamed: 0':'year', '0':'lyrics'}, inplace=True)"
   ]
  },
  {
   "cell_type": "code",
   "execution_count": 11,
   "metadata": {},
   "outputs": [
    {
     "data": {
      "text/html": [
       "<div>\n",
       "<style scoped>\n",
       "    .dataframe tbody tr th:only-of-type {\n",
       "        vertical-align: middle;\n",
       "    }\n",
       "\n",
       "    .dataframe tbody tr th {\n",
       "        vertical-align: top;\n",
       "    }\n",
       "\n",
       "    .dataframe thead th {\n",
       "        text-align: right;\n",
       "    }\n",
       "</style>\n",
       "<table border=\"1\" class=\"dataframe\">\n",
       "  <thead>\n",
       "    <tr style=\"text-align: right;\">\n",
       "      <th></th>\n",
       "      <th>year</th>\n",
       "      <th>lyrics</th>\n",
       "    </tr>\n",
       "  </thead>\n",
       "  <tbody>\n",
       "    <tr>\n",
       "      <th>0</th>\n",
       "      <td>2018</td>\n",
       "      <td>사랑 을 하다 우리 가 만나다 지우다 못 하다 추억 이 돼다 볼 만 한 멜로드라마 ...</td>\n",
       "    </tr>\n",
       "    <tr>\n",
       "      <th>1</th>\n",
       "      <td>2017</td>\n",
       "      <td>이제 괜찮다 너무 힘들다 우리 그 마무리 가 고작 이별 뿐 인 건데 우린 차다 어렵...</td>\n",
       "    </tr>\n",
       "    <tr>\n",
       "      <th>2</th>\n",
       "      <td>2016</td>\n",
       "      <td>Love - love the stars Love - love the moon 별 다...</td>\n",
       "    </tr>\n",
       "    <tr>\n",
       "      <th>3</th>\n",
       "      <td>2015</td>\n",
       "      <td>난 깨어나다 까맣다 밤 과 함께 다 들어오다 담 엔 누구 차례 하다 치 앞 도 볼 ...</td>\n",
       "    </tr>\n",
       "    <tr>\n",
       "      <th>4</th>\n",
       "      <td>2014</td>\n",
       "      <td>미안하다 미안하다 하다 내 가 초라하다 빨갛다 예쁘다 입술 로 어서 나르다 죽 이고...</td>\n",
       "    </tr>\n",
       "  </tbody>\n",
       "</table>\n",
       "</div>"
      ],
      "text/plain": [
       "   year                                             lyrics\n",
       "0  2018  사랑 을 하다 우리 가 만나다 지우다 못 하다 추억 이 돼다 볼 만 한 멜로드라마 ...\n",
       "1  2017  이제 괜찮다 너무 힘들다 우리 그 마무리 가 고작 이별 뿐 인 건데 우린 차다 어렵...\n",
       "2  2016  Love - love the stars Love - love the moon 별 다...\n",
       "3  2015  난 깨어나다 까맣다 밤 과 함께 다 들어오다 담 엔 누구 차례 하다 치 앞 도 볼 ...\n",
       "4  2014  미안하다 미안하다 하다 내 가 초라하다 빨갛다 예쁘다 입술 로 어서 나르다 죽 이고..."
      ]
     },
     "execution_count": 11,
     "metadata": {},
     "output_type": "execute_result"
    }
   ],
   "source": [
    "df2.head()"
   ]
  },
  {
   "cell_type": "code",
   "execution_count": 12,
   "metadata": {},
   "outputs": [],
   "source": [
    "for i in range(len(df2)):\n",
    "    df2.loc[i, 'lyrics'] = df2.loc[i, 'lyrics'].lower()"
   ]
  },
  {
   "cell_type": "code",
   "execution_count": 14,
   "metadata": {},
   "outputs": [],
   "source": [
    "df2.to_csv(\"year_male_lyrics2.csv\")"
   ]
  },
  {
   "cell_type": "code",
   "execution_count": null,
   "metadata": {},
   "outputs": [],
   "source": []
  }
 ],
 "metadata": {
  "kernelspec": {
   "display_name": "Python 3",
   "language": "python",
   "name": "python3"
  },
  "language_info": {
   "codemirror_mode": {
    "name": "ipython",
    "version": 3
   },
   "file_extension": ".py",
   "mimetype": "text/x-python",
   "name": "python",
   "nbconvert_exporter": "python",
   "pygments_lexer": "ipython3",
   "version": "3.7.1"
  }
 },
 "nbformat": 4,
 "nbformat_minor": 2
}
